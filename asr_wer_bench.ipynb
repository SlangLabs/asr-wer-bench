{
  "nbformat": 4,
  "nbformat_minor": 0,
  "metadata": {
    "colab": {
      "name": "asr-wer-bench.ipynb",
      "provenance": [],
      "collapsed_sections": [],
      "authorship_tag": "ABX9TyMLGSqExsWNMWa9MR7VSxT5",
      "include_colab_link": true
    },
    "kernelspec": {
      "name": "python3",
      "display_name": "Python 3"
    },
    "accelerator": "GPU"
  },
  "cells": [
    {
      "cell_type": "markdown",
      "metadata": {
        "id": "view-in-github",
        "colab_type": "text"
      },
      "source": [
        "<a href=\"https://colab.research.google.com/github/SlangLabs/asr-wer-bench/blob/main/asr_wer_bench.ipynb\" target=\"_parent\"><img src=\"https://colab.research.google.com/assets/colab-badge.svg\" alt=\"Open In Colab\"/></a>"
      ]
    },
    {
      "cell_type": "markdown",
      "metadata": {
        "id": "9CTsB1kBZTQc"
      },
      "source": [
        "# ASR WER Benchmark\n",
        "\n",
        "Infrastructure to measure Word Error Rate for an offline ASR engine on a given audio data set."
      ]
    },
    {
      "cell_type": "markdown",
      "metadata": {
        "id": "u1lnSbgXaFMd"
      },
      "source": [
        "## Setup"
      ]
    },
    {
      "cell_type": "code",
      "metadata": {
        "id": "na8uMfRCfm9d",
        "outputId": "2d6829d6-9125-45c2-8031-b064db7c09c3",
        "colab": {
          "base_uri": "https://localhost:8080/",
          "height": 34
        }
      },
      "source": [
        "!python --version"
      ],
      "execution_count": 1,
      "outputs": [
        {
          "output_type": "stream",
          "text": [
            "Python 3.6.9\n"
          ],
          "name": "stdout"
        }
      ]
    },
    {
      "cell_type": "markdown",
      "metadata": {
        "id": "N2uQYS1kaJYl"
      },
      "source": [
        "### SCTK\n",
        "\n",
        "Install `sclite`."
      ]
    },
    {
      "cell_type": "code",
      "metadata": {
        "id": "tiAC4NYwZPo1",
        "outputId": "88bfef46-527f-4a24-aab0-2e89ec152dc2",
        "colab": {
          "base_uri": "https://localhost:8080/",
          "height": 101
        }
      },
      "source": [
        "!git clone https://github.com/usnistgov/SCTK.git"
      ],
      "execution_count": 2,
      "outputs": [
        {
          "output_type": "stream",
          "text": [
            "Cloning into 'SCTK'...\n",
            "remote: Enumerating objects: 5115, done.\u001b[K\n",
            "remote: Total 5115 (delta 0), reused 0 (delta 0), pack-reused 5115\u001b[K\n",
            "Receiving objects: 100% (5115/5115), 7.26 MiB | 3.84 MiB/s, done.\n",
            "Resolving deltas: 100% (3658/3658), done.\n"
          ],
          "name": "stdout"
        }
      ]
    },
    {
      "cell_type": "code",
      "metadata": {
        "id": "7ITAy3mea0XR",
        "outputId": "cd62b1a0-4d43-40f6-a3de-dec456c983a3",
        "colab": {
          "base_uri": "https://localhost:8080/",
          "height": 168
        }
      },
      "source": [
        "!ls -l SCTK"
      ],
      "execution_count": 3,
      "outputs": [
        {
          "output_type": "stream",
          "text": [
            "total 52\n",
            "-rw-r--r--  1 root root 16498 Oct 20 15:52 CHANGELOG\n",
            "-rw-r--r--  1 root root   788 Oct 20 15:52 DISCLAIMER\n",
            "drwxr-xr-x  4 root root  4096 Oct 20 15:52 doc\n",
            "-rw-r--r--  1 root root  2273 Oct 20 15:52 LICENSE.md\n",
            "-rw-r--r--  1 root root  1673 Oct 20 15:52 makefile\n",
            "-rw-r--r--  1 root root  6440 Oct 20 15:52 README.md\n",
            "drwxr-xr-x 26 root root  4096 Oct 20 15:52 src\n",
            "-rw-r--r--  1 root root  1484 Oct 20 15:52 TODO\n"
          ],
          "name": "stdout"
        }
      ]
    },
    {
      "cell_type": "code",
      "metadata": {
        "id": "Me-x-uWRaolm"
      },
      "source": [
        "!cd SCTK && make config &> /dev/null"
      ],
      "execution_count": 4,
      "outputs": []
    },
    {
      "cell_type": "code",
      "metadata": {
        "id": "z7AunnNvi0mP"
      },
      "source": [
        "!cd SCTK && make all &> /dev/null"
      ],
      "execution_count": 5,
      "outputs": []
    },
    {
      "cell_type": "code",
      "metadata": {
        "id": "AorEdKtui65x"
      },
      "source": [
        "!cd SCTK && make check &> /dev/null"
      ],
      "execution_count": 6,
      "outputs": []
    },
    {
      "cell_type": "code",
      "metadata": {
        "id": "7e18VrchjFcq"
      },
      "source": [
        "!cd SCTK  && make install &> /dev/null"
      ],
      "execution_count": 7,
      "outputs": []
    },
    {
      "cell_type": "code",
      "metadata": {
        "id": "eAXNRVldch9Y",
        "outputId": "9aabd2ab-3b4b-49ec-8c12-c6e622ff11ff",
        "colab": {
          "base_uri": "https://localhost:8080/",
          "height": 34
        }
      },
      "source": [
        "!ls -la SCTK/bin/sclite"
      ],
      "execution_count": 8,
      "outputs": [
        {
          "output_type": "stream",
          "text": [
            "-rwxr-xr-x 1 root root 344296 Oct 20 15:54 SCTK/bin/sclite\n"
          ],
          "name": "stdout"
        }
      ]
    },
    {
      "cell_type": "markdown",
      "metadata": {
        "id": "CDRqvcwWlNPa"
      },
      "source": [
        "### ASR WER Bench\n",
        "\n",
        "Clone repo and set env"
      ]
    },
    {
      "cell_type": "code",
      "metadata": {
        "id": "zfibfwazlPLv",
        "outputId": "4fae80fd-c877-4eb4-fae6-6e7bf793c4b6",
        "colab": {
          "base_uri": "https://localhost:8080/",
          "height": 118
        }
      },
      "source": [
        "!git clone https://github.com/SlangLabs/asr-wer-bench.git"
      ],
      "execution_count": 9,
      "outputs": [
        {
          "output_type": "stream",
          "text": [
            "Cloning into 'asr-wer-bench'...\n",
            "remote: Enumerating objects: 29, done.\u001b[K\n",
            "remote: Counting objects: 100% (29/29), done.\u001b[K\n",
            "remote: Compressing objects: 100% (18/18), done.\u001b[K\n",
            "remote: Total 29 (delta 2), reused 25 (delta 2), pack-reused 0\u001b[K\n",
            "Unpacking objects: 100% (29/29), done.\n"
          ],
          "name": "stdout"
        }
      ]
    },
    {
      "cell_type": "code",
      "metadata": {
        "id": "jT50j5iXm2k1",
        "outputId": "c8025576-e589-4f23-c083-e5401d8539e3",
        "colab": {
          "base_uri": "https://localhost:8080/",
          "height": 154
        }
      },
      "source": [
        "# Run for CPU\n",
        "!pip install -r asr-wer-bench/requirements.txt"
      ],
      "execution_count": 10,
      "outputs": [
        {
          "output_type": "stream",
          "text": [
            "Collecting deepspeech==0.8.1\n",
            "\u001b[?25l  Downloading https://files.pythonhosted.org/packages/29/71/f03e10d4c4141436d5be5c050fdd3a732e81709905e8081e5bbfe6b7dde0/deepspeech-0.8.1-cp36-cp36m-manylinux1_x86_64.whl (8.3MB)\n",
            "\u001b[K     |████████████████████████████████| 8.3MB 6.9MB/s \n",
            "\u001b[?25hRequirement already satisfied: numpy==1.18.5 in /usr/local/lib/python3.6/dist-packages (from -r asr-wer-bench/requirements.txt (line 2)) (1.18.5)\n",
            "Requirement already satisfied: scipy==1.4.1 in /usr/local/lib/python3.6/dist-packages (from -r asr-wer-bench/requirements.txt (line 3)) (1.4.1)\n",
            "Installing collected packages: deepspeech\n",
            "Successfully installed deepspeech-0.8.1\n"
          ],
          "name": "stdout"
        }
      ]
    },
    {
      "cell_type": "code",
      "metadata": {
        "id": "tL-s2jAbnFHm"
      },
      "source": [
        "# Run for GPU\n",
        "!pip install -r asr-wer-bench/requirements-gpu.txt"
      ],
      "execution_count": null,
      "outputs": []
    },
    {
      "cell_type": "markdown",
      "metadata": {
        "id": "GpAxB1VlnWW8"
      },
      "source": [
        "### Get DeepSpeech Models"
      ]
    },
    {
      "cell_type": "code",
      "metadata": {
        "id": "WcWO834mnZJU",
        "outputId": "65ea0932-9c93-4676-e3e1-024bf6b7c2e0",
        "colab": {
          "base_uri": "https://localhost:8080/",
          "height": 151
        }
      },
      "source": [
        "!mkdir -p ./models/deepspeech/en-US/\n",
        "!cd ./models/deepspeech/en-US/ && curl -LO https://github.com/mozilla/DeepSpeech/releases/download/v0.8.1/deepspeech-0.8.1-models.pbmm\n",
        "!cd ./models/deepspeech/en-US/ && curl -LO https://github.com/mozilla/DeepSpeech/releases/download/v0.8.1/deepspeech-0.8.1-models.scorer"
      ],
      "execution_count": 11,
      "outputs": [
        {
          "output_type": "stream",
          "text": [
            "  % Total    % Received % Xferd  Average Speed   Time    Time     Time  Current\n",
            "                                 Dload  Upload   Total   Spent    Left  Speed\n",
            "100   652  100   652    0     0   2950      0 --:--:-- --:--:-- --:--:--  2936\n",
            "100  180M  100  180M    0     0  28.7M      0  0:00:06  0:00:06 --:--:-- 35.9M\n",
            "  % Total    % Received % Xferd  Average Speed   Time    Time     Time  Current\n",
            "                                 Dload  Upload   Total   Spent    Left  Speed\n",
            "100   654  100   654    0     0   2893      0 --:--:-- --:--:-- --:--:--  2893\n",
            "100  909M  100  909M    0     0  34.5M      0  0:00:26  0:00:26 --:--:-- 36.2M\n"
          ],
          "name": "stdout"
        }
      ]
    },
    {
      "cell_type": "code",
      "metadata": {
        "id": "8YzxbaucntIt",
        "outputId": "2ef17ece-77e8-4a13-81d9-48ef1f4ad9a4",
        "colab": {
          "base_uri": "https://localhost:8080/",
          "height": 67
        }
      },
      "source": [
        "!ls -l ./models/deepspeech/en-US/"
      ],
      "execution_count": 12,
      "outputs": [
        {
          "output_type": "stream",
          "text": [
            "total 1115516\n",
            "-rw-r--r-- 1 root root 188915984 Oct 20 15:55 deepspeech-0.8.1-models.pbmm\n",
            "-rw-r--r-- 1 root root 953363776 Oct 20 15:56 deepspeech-0.8.1-models.scorer\n"
          ],
          "name": "stdout"
        }
      ]
    },
    {
      "cell_type": "code",
      "metadata": {
        "id": "omVYWRpMnxfv",
        "outputId": "34333520-935a-40ba-b318-c65467741575",
        "colab": {
          "base_uri": "https://localhost:8080/",
          "height": 205
        }
      },
      "source": [
        "# Verify DeepSpeech\n",
        "\n",
        "!deepspeech \\\n",
        "  --model models/deepspeech/en-US/deepspeech-0.8.1-models.pbmm \\\n",
        "  --scorer models/deepspeech/en-US/deepspeech-0.8.1-models.scorer \\\n",
        "  --audio asr-wer-bench/data/en-US/audio/2830-3980-0043.wav"
      ],
      "execution_count": 13,
      "outputs": [
        {
          "output_type": "stream",
          "text": [
            "Loading model from file models/deepspeech/en-US/deepspeech-0.8.1-models.pbmm\n",
            "TensorFlow: v2.2.0-24-g1c1b2b9\n",
            "DeepSpeech: v0.8.1-0-gfa883eb\n",
            "2020-10-20 15:56:46.150464: I tensorflow/core/platform/cpu_feature_guard.cc:143] Your CPU supports instructions that this TensorFlow binary was not compiled to use: AVX2 FMA\n",
            "Loaded model in 0.00878s.\n",
            "Loading scorer from files models/deepspeech/en-US/deepspeech-0.8.1-models.scorer\n",
            "Loaded scorer in 0.000213s.\n",
            "Running inference.\n",
            "experience proves this\n",
            "Inference took 1.665s for 1.975s audio file.\n"
          ],
          "name": "stdout"
        }
      ]
    },
    {
      "cell_type": "code",
      "metadata": {
        "id": "ED_15aL4oEop",
        "outputId": "6398927f-a751-4896-b997-5ab0bd0538e9",
        "colab": {
          "base_uri": "https://localhost:8080/",
          "height": 34
        }
      },
      "source": [
        "# Expected transcript\n",
        "!cat asr-wer-bench/data/en-US/audio/2830-3980-0043.txt"
      ],
      "execution_count": 14,
      "outputs": [
        {
          "output_type": "stream",
          "text": [
            "experience proves this\n"
          ],
          "name": "stdout"
        }
      ]
    },
    {
      "cell_type": "markdown",
      "metadata": {
        "id": "FhuUkOiMoMip"
      },
      "source": [
        "## Run Test Bench"
      ]
    },
    {
      "cell_type": "code",
      "metadata": {
        "id": "EI-lsaVCojVa",
        "outputId": "8b8a01b9-241f-444c-e428-b8d9dea8febb",
        "colab": {
          "base_uri": "https://localhost:8080/",
          "height": 87
        }
      },
      "source": [
        "!PYTHONPATH=asr-wer-bench python asr-wer-bench/werbench/asr/engine.py \\\n",
        "  --engine deepspeech \\\n",
        "  --model-path-prefix ./models/deepspeech/en-US/deepspeech-0.8.1-models \\\n",
        "  --input-dir ./asr-wer-bench/data/en-US/audio \\\n",
        "  --output-path-prefix ./deepspeech-out"
      ],
      "execution_count": 15,
      "outputs": [
        {
          "output_type": "stream",
          "text": [
            "TensorFlow: v2.2.0-24-g1c1b2b9\n",
            "DeepSpeech: v0.8.1-0-gfa883eb\n",
            "2020-10-20 15:56:59.366816: I tensorflow/core/platform/cpu_feature_guard.cc:143] Your CPU supports instructions that this TensorFlow binary was not compiled to use: AVX2 FMA\n"
          ],
          "name": "stdout"
        }
      ]
    },
    {
      "cell_type": "markdown",
      "metadata": {
        "id": "1_zWpDxppKIE"
      },
      "source": [
        "Compare using `sclite`:"
      ]
    },
    {
      "cell_type": "code",
      "metadata": {
        "id": "LkQp__1MpN9t",
        "outputId": "ed487d6e-43d6-4df1-992f-42f01bcec092",
        "colab": {
          "base_uri": "https://localhost:8080/",
          "height": 521
        }
      },
      "source": [
        "!./SCTK/bin/sclite -r deepspeech-out.ref trn -h deepspeech-out.hyp trn -i rm"
      ],
      "execution_count": 16,
      "outputs": [
        {
          "output_type": "stream",
          "text": [
            "sclite: 2.10 TK Version 1.3\n",
            "Begin alignment of Ref File: 'deepspeech-out.ref' and Hyp File: 'deepspeech-out.hyp'\n",
            "\r    Alignment# 1 for speaker 2830          \n",
            "\r    Alignment# 1 for speaker 8455          \n",
            "\r    Alignment# 1 for speaker 4507          \n",
            "\n",
            "\n",
            "\n",
            "\n",
            "                     SYSTEM SUMMARY PERCENTAGES by SPEAKER                      \n",
            "\n",
            "       ,----------------------------------------------------------------.\n",
            "       |                       deepspeech-out.hyp                       |\n",
            "       |----------------------------------------------------------------|\n",
            "       | SPKR   | # Snt # Wrd | Corr    Sub    Del    Ins    Err  S.Err |\n",
            "       |--------+-------------+-----------------------------------------|\n",
            "       | 2830   |    1      3 |100.0    0.0    0.0    0.0    0.0    0.0 |\n",
            "       |--------+-------------+-----------------------------------------|\n",
            "       | 8455   |    1      6 |100.0    0.0    0.0    0.0    0.0    0.0 |\n",
            "       |--------+-------------+-----------------------------------------|\n",
            "       | 4507   |    1      7 | 85.7   14.3    0.0    0.0   14.3  100.0 |\n",
            "       |================================================================|\n",
            "       | Sum/Avg|    3     16 | 93.8    6.3    0.0    0.0    6.3   33.3 |\n",
            "       |================================================================|\n",
            "       |  Mean  |  1.0    5.3 | 95.2    4.8    0.0    0.0    4.8   33.3 |\n",
            "       |  S.D.  |  0.0    2.1 |  8.2    8.2    0.0    0.0    8.2   57.7 |\n",
            "       | Median |  1.0    6.0 |100.0    0.0    0.0    0.0    0.0    0.0 |\n",
            "       `----------------------------------------------------------------'\n",
            "\n",
            "Successful Completion\n"
          ],
          "name": "stdout"
        }
      ]
    },
    {
      "cell_type": "markdown",
      "metadata": {
        "id": "MUFV4cf2r-In"
      },
      "source": [
        "---\n",
        "&copy; 2020 Slang Labs Private Limited. All rights reserved."
      ]
    }
  ]
}
